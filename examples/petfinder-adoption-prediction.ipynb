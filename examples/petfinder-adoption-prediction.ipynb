{
 "cells": [
  {
   "cell_type": "code",
   "execution_count": 1,
   "metadata": {},
   "outputs": [
    {
     "data": {
      "text/html": [
       "<style>.container { width:100% !important; }</style>"
      ],
      "text/plain": [
       "<IPython.core.display.HTML object>"
      ]
     },
     "metadata": {},
     "output_type": "display_data"
    }
   ],
   "source": [
    "%load_ext autoreload\n",
    "%autoreload 2\n",
    "from ayniy.utils import init_notebook\n",
    "init_notebook()"
   ]
  },
  {
   "cell_type": "code",
   "execution_count": 2,
   "metadata": {},
   "outputs": [
    {
     "name": "stderr",
     "output_type": "stream",
     "text": [
      "Using TensorFlow backend.\n"
     ]
    }
   ],
   "source": [
    "from ayniy.preprocessing.runner import Tabular\n",
    "import yaml\n",
    "from sklearn.model_selection import StratifiedKFold\n",
    "\n",
    "\n",
    "f = open(\"configs/fe_00.yml\", \"r+\")\n",
    "configs = yaml.load(f)\n",
    "cv = StratifiedKFold(n_splits=5, shuffle=True, random_state=7)"
   ]
  },
  {
   "cell_type": "code",
   "execution_count": 3,
   "metadata": {},
   "outputs": [],
   "source": [
    "tabular = Tabular(configs, cv)"
   ]
  },
  {
   "cell_type": "code",
   "execution_count": 4,
   "metadata": {},
   "outputs": [
    {
     "name": "stdout",
     "output_type": "stream",
     "text": [
      "[count_null] done in 0 s\n",
      "[label_encoding] done in 0 s\n",
      "[frequency_encoding] done in 0 s\n",
      "[count_encoding] done in 0 s\n",
      "[count_encoding_interact] done in 2 s\n",
      "[matrix_factorization] done in 8 s\n",
      "[target_encoding] done in 5 s\n",
      "[aggregation] done in 0 s\n",
      "[numeric_interact] done in 0 s\n",
      "[get_tfidf] done in 21 s\n",
      "[replace inf] done in 2 s\n"
     ]
    },
    {
     "data": {
      "application/vnd.jupyter.widget-view+json": {
       "model_id": "220205a0162046fa9a44133a7ad8dc28",
       "version_major": 2,
       "version_minor": 0
      },
      "text/plain": [
       "HBox(children=(IntProgress(value=0, max=373), HTML(value='')))"
      ]
     },
     "metadata": {},
     "output_type": "display_data"
    },
    {
     "name": "stdout",
     "output_type": "stream",
     "text": [
      "\n",
      "unique_cols:  []\n",
      "duplicated_cols:  ['cei_State_RescuerID']\n",
      "high_corr_cols:  []\n",
      "[delete cols] done in 66 s\n",
      "[save] done in 2 s\n"
     ]
    }
   ],
   "source": [
    "tabular.create()"
   ]
  },
  {
   "cell_type": "code",
   "execution_count": 5,
   "metadata": {},
   "outputs": [],
   "source": [
    "X_train, X_test, y_train = tabular.load()"
   ]
  },
  {
   "cell_type": "code",
   "execution_count": 6,
   "metadata": {},
   "outputs": [
    {
     "name": "stdout",
     "output_type": "stream",
     "text": [
      "(14993, 378)\n"
     ]
    }
   ],
   "source": [
    "print(X_train.shape)"
   ]
  },
  {
   "cell_type": "code",
   "execution_count": 7,
   "metadata": {
    "scrolled": false
   },
   "outputs": [
    {
     "data": {
      "text/html": [
       "<div>\n",
       "<style scoped>\n",
       "    .dataframe tbody tr th:only-of-type {\n",
       "        vertical-align: middle;\n",
       "    }\n",
       "\n",
       "    .dataframe tbody tr th {\n",
       "        vertical-align: top;\n",
       "    }\n",
       "\n",
       "    .dataframe thead th {\n",
       "        text-align: right;\n",
       "    }\n",
       "</style>\n",
       "<table border=\"1\" class=\"dataframe\">\n",
       "  <thead>\n",
       "    <tr style=\"text-align: right;\">\n",
       "      <th></th>\n",
       "      <th>Type</th>\n",
       "      <th>Age</th>\n",
       "      <th>Breed1</th>\n",
       "      <th>Breed2</th>\n",
       "      <th>Gender</th>\n",
       "      <th>Color1</th>\n",
       "      <th>Color2</th>\n",
       "      <th>Color3</th>\n",
       "      <th>MaturitySize</th>\n",
       "      <th>FurLength</th>\n",
       "      <th>Vaccinated</th>\n",
       "      <th>Dewormed</th>\n",
       "      <th>Sterilized</th>\n",
       "      <th>Health</th>\n",
       "      <th>Quantity</th>\n",
       "      <th>Fee</th>\n",
       "      <th>State</th>\n",
       "      <th>RescuerID</th>\n",
       "      <th>VideoAmt</th>\n",
       "      <th>Description</th>\n",
       "      <th>PhotoAmt</th>\n",
       "      <th>fe_Type</th>\n",
       "      <th>fe_Breed1</th>\n",
       "      <th>fe_Breed2</th>\n",
       "      <th>fe_Gender</th>\n",
       "      <th>...</th>\n",
       "      <th>Quantity_div_VideoAmt</th>\n",
       "      <th>Sterilized_plus_Vaccinated</th>\n",
       "      <th>Sterilized_mul_Vaccinated</th>\n",
       "      <th>Sterilized_div_Vaccinated</th>\n",
       "      <th>Sterilized_plus_VideoAmt</th>\n",
       "      <th>Sterilized_mul_VideoAmt</th>\n",
       "      <th>Sterilized_div_VideoAmt</th>\n",
       "      <th>Vaccinated_plus_VideoAmt</th>\n",
       "      <th>Vaccinated_mul_VideoAmt</th>\n",
       "      <th>Vaccinated_div_VideoAmt</th>\n",
       "      <th>tfidf_svd_0</th>\n",
       "      <th>tfidf_svd_1</th>\n",
       "      <th>tfidf_svd_2</th>\n",
       "      <th>tfidf_svd_3</th>\n",
       "      <th>tfidf_svd_4</th>\n",
       "      <th>tfidf_nmf_0</th>\n",
       "      <th>tfidf_nmf_1</th>\n",
       "      <th>tfidf_nmf_2</th>\n",
       "      <th>tfidf_nmf_3</th>\n",
       "      <th>tfidf_nmf_4</th>\n",
       "      <th>tfidf_bm25_0</th>\n",
       "      <th>tfidf_bm25_1</th>\n",
       "      <th>tfidf_bm25_2</th>\n",
       "      <th>tfidf_bm25_3</th>\n",
       "      <th>tfidf_bm25_4</th>\n",
       "    </tr>\n",
       "  </thead>\n",
       "  <tbody>\n",
       "    <tr>\n",
       "      <th>0</th>\n",
       "      <td>1</td>\n",
       "      <td>3</td>\n",
       "      <td>176</td>\n",
       "      <td>0</td>\n",
       "      <td>0</td>\n",
       "      <td>0</td>\n",
       "      <td>6</td>\n",
       "      <td>0</td>\n",
       "      <td>1</td>\n",
       "      <td>1</td>\n",
       "      <td>2</td>\n",
       "      <td>2</td>\n",
       "      <td>2</td>\n",
       "      <td>1</td>\n",
       "      <td>1</td>\n",
       "      <td>100</td>\n",
       "      <td>2</td>\n",
       "      <td>3716</td>\n",
       "      <td>0</td>\n",
       "      <td>Nibble is a 3+ month old ball of cuteness. He ...</td>\n",
       "      <td>1.0</td>\n",
       "      <td>0.46048</td>\n",
       "      <td>0.021355</td>\n",
       "      <td>0.723912</td>\n",
       "      <td>0.37121</td>\n",
       "      <td>...</td>\n",
       "      <td>1.000000e+10</td>\n",
       "      <td>4</td>\n",
       "      <td>4</td>\n",
       "      <td>1.0</td>\n",
       "      <td>2</td>\n",
       "      <td>0</td>\n",
       "      <td>1.000000e+10</td>\n",
       "      <td>2</td>\n",
       "      <td>0</td>\n",
       "      <td>1.000000e+10</td>\n",
       "      <td>0.253324</td>\n",
       "      <td>-0.032928</td>\n",
       "      <td>0.083905</td>\n",
       "      <td>0.027290</td>\n",
       "      <td>-0.084485</td>\n",
       "      <td>0.005126</td>\n",
       "      <td>0.014431</td>\n",
       "      <td>0.032894</td>\n",
       "      <td>0.048483</td>\n",
       "      <td>0.001267</td>\n",
       "      <td>0.618873</td>\n",
       "      <td>-0.182446</td>\n",
       "      <td>-0.127991</td>\n",
       "      <td>0.087391</td>\n",
       "      <td>-0.045948</td>\n",
       "    </tr>\n",
       "    <tr>\n",
       "      <th>1</th>\n",
       "      <td>1</td>\n",
       "      <td>1</td>\n",
       "      <td>144</td>\n",
       "      <td>0</td>\n",
       "      <td>0</td>\n",
       "      <td>0</td>\n",
       "      <td>1</td>\n",
       "      <td>0</td>\n",
       "      <td>2</td>\n",
       "      <td>2</td>\n",
       "      <td>3</td>\n",
       "      <td>3</td>\n",
       "      <td>3</td>\n",
       "      <td>1</td>\n",
       "      <td>1</td>\n",
       "      <td>0</td>\n",
       "      <td>13</td>\n",
       "      <td>1417</td>\n",
       "      <td>0</td>\n",
       "      <td>I just found it alone yesterday near my apartm...</td>\n",
       "      <td>2.0</td>\n",
       "      <td>0.46048</td>\n",
       "      <td>0.085579</td>\n",
       "      <td>0.723912</td>\n",
       "      <td>0.37121</td>\n",
       "      <td>...</td>\n",
       "      <td>1.000000e+10</td>\n",
       "      <td>6</td>\n",
       "      <td>9</td>\n",
       "      <td>1.0</td>\n",
       "      <td>3</td>\n",
       "      <td>0</td>\n",
       "      <td>1.000000e+10</td>\n",
       "      <td>3</td>\n",
       "      <td>0</td>\n",
       "      <td>1.000000e+10</td>\n",
       "      <td>0.131442</td>\n",
       "      <td>-0.062370</td>\n",
       "      <td>0.014278</td>\n",
       "      <td>0.032006</td>\n",
       "      <td>0.002354</td>\n",
       "      <td>0.010382</td>\n",
       "      <td>0.000000</td>\n",
       "      <td>0.012967</td>\n",
       "      <td>0.020615</td>\n",
       "      <td>0.005485</td>\n",
       "      <td>0.526104</td>\n",
       "      <td>-0.184632</td>\n",
       "      <td>-0.077929</td>\n",
       "      <td>0.020954</td>\n",
       "      <td>-0.043622</td>\n",
       "    </tr>\n",
       "  </tbody>\n",
       "</table>\n",
       "<p>2 rows × 378 columns</p>\n",
       "</div>"
      ],
      "text/plain": [
       "   Type  Age  Breed1  Breed2  Gender  Color1  Color2  Color3  MaturitySize  \\\n",
       "0     1    3     176       0       0       0       6       0             1   \n",
       "1     1    1     144       0       0       0       1       0             2   \n",
       "\n",
       "   FurLength  Vaccinated  Dewormed  Sterilized  Health  Quantity  Fee  State  \\\n",
       "0          1           2         2           2       1         1  100      2   \n",
       "1          2           3         3           3       1         1    0     13   \n",
       "\n",
       "   RescuerID  VideoAmt                                        Description  \\\n",
       "0       3716         0  Nibble is a 3+ month old ball of cuteness. He ...   \n",
       "1       1417         0  I just found it alone yesterday near my apartm...   \n",
       "\n",
       "   PhotoAmt  fe_Type  fe_Breed1  fe_Breed2  fe_Gender      ...       \\\n",
       "0       1.0  0.46048   0.021355   0.723912    0.37121      ...        \n",
       "1       2.0  0.46048   0.085579   0.723912    0.37121      ...        \n",
       "\n",
       "   Quantity_div_VideoAmt  Sterilized_plus_Vaccinated  \\\n",
       "0           1.000000e+10                           4   \n",
       "1           1.000000e+10                           6   \n",
       "\n",
       "   Sterilized_mul_Vaccinated  Sterilized_div_Vaccinated  \\\n",
       "0                          4                        1.0   \n",
       "1                          9                        1.0   \n",
       "\n",
       "   Sterilized_plus_VideoAmt  Sterilized_mul_VideoAmt  Sterilized_div_VideoAmt  \\\n",
       "0                         2                        0             1.000000e+10   \n",
       "1                         3                        0             1.000000e+10   \n",
       "\n",
       "   Vaccinated_plus_VideoAmt  Vaccinated_mul_VideoAmt  Vaccinated_div_VideoAmt  \\\n",
       "0                         2                        0             1.000000e+10   \n",
       "1                         3                        0             1.000000e+10   \n",
       "\n",
       "   tfidf_svd_0  tfidf_svd_1  tfidf_svd_2  tfidf_svd_3  tfidf_svd_4  \\\n",
       "0     0.253324    -0.032928     0.083905     0.027290    -0.084485   \n",
       "1     0.131442    -0.062370     0.014278     0.032006     0.002354   \n",
       "\n",
       "   tfidf_nmf_0  tfidf_nmf_1  tfidf_nmf_2  tfidf_nmf_3  tfidf_nmf_4  \\\n",
       "0     0.005126     0.014431     0.032894     0.048483     0.001267   \n",
       "1     0.010382     0.000000     0.012967     0.020615     0.005485   \n",
       "\n",
       "   tfidf_bm25_0  tfidf_bm25_1  tfidf_bm25_2  tfidf_bm25_3  tfidf_bm25_4  \n",
       "0      0.618873     -0.182446     -0.127991      0.087391     -0.045948  \n",
       "1      0.526104     -0.184632     -0.077929      0.020954     -0.043622  \n",
       "\n",
       "[2 rows x 378 columns]"
      ]
     },
     "execution_count": 7,
     "metadata": {},
     "output_type": "execute_result"
    }
   ],
   "source": [
    "X_train.head(2)"
   ]
  },
  {
   "cell_type": "code",
   "execution_count": 8,
   "metadata": {},
   "outputs": [],
   "source": [
    "from ayniy.preprocessing.text import get_tfidf"
   ]
  },
  {
   "cell_type": "code",
   "execution_count": null,
   "metadata": {},
   "outputs": [],
   "source": []
  }
 ],
 "metadata": {
  "kernelspec": {
   "display_name": "Python 3",
   "language": "python",
   "name": "python3"
  },
  "language_info": {
   "codemirror_mode": {
    "name": "ipython",
    "version": 3
   },
   "file_extension": ".py",
   "mimetype": "text/x-python",
   "name": "python",
   "nbconvert_exporter": "python",
   "pygments_lexer": "ipython3",
   "version": "3.6.6"
  }
 },
 "nbformat": 4,
 "nbformat_minor": 2
}
