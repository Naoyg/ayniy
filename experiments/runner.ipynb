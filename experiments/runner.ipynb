{
 "cells": [
  {
   "cell_type": "code",
   "execution_count": 1,
   "metadata": {},
   "outputs": [
    {
     "data": {
      "text/html": [
       "<style>.container { width:100% !important; }</style>"
      ],
      "text/plain": [
       "<IPython.core.display.HTML object>"
      ]
     },
     "metadata": {},
     "output_type": "display_data"
    }
   ],
   "source": [
    "from ayniy.utils import init_notebook\n",
    "init_notebook()\n",
    "%load_ext autoreload\n",
    "%autoreload 2"
   ]
  },
  {
   "cell_type": "code",
   "execution_count": 2,
   "metadata": {},
   "outputs": [
    {
     "name": "stderr",
     "output_type": "stream",
     "text": [
      "Using TensorFlow backend.\n",
      "I0503 07:02:12.187429 140121889404288 file_utils.py:41] PyTorch version 1.0.1.post2 available.\n"
     ]
    }
   ],
   "source": [
    "import yaml\n",
    "from sklearn.model_selection import StratifiedKFold\n",
    "from ayniy.preprocessing.runner import Tabular\n",
    "from ayniy.model.runner import Runner"
   ]
  },
  {
   "cell_type": "code",
   "execution_count": 3,
   "metadata": {},
   "outputs": [],
   "source": [
    "f = open('configs/fe000.yml', 'r+')\n",
    "fe_configs = yaml.load(f)\n",
    "g = open('configs/run000.yml', 'r+')\n",
    "run_configs = yaml.load(g)\n",
    "\n",
    "cv = StratifiedKFold(n_splits=5, shuffle=True, random_state=7)"
   ]
  },
  {
   "cell_type": "code",
   "execution_count": 4,
   "metadata": {},
   "outputs": [],
   "source": [
    "# tabular = Tabular(fe_configs, cv)\n",
    "# tabular.create()"
   ]
  },
  {
   "cell_type": "code",
   "execution_count": 5,
   "metadata": {
    "scrolled": true
   },
   "outputs": [
    {
     "name": "stderr",
     "output_type": "stream",
     "text": [
      "[2020-05-03 07:02:14] - run000 - start training cv\n",
      "I0503 07:02:14.326206 140121889404288 utils.py:201] [2020-05-03 07:02:14] - run000 - start training cv\n",
      "[2020-05-03 07:02:14] - run000 fold 0 - start training\n",
      "I0503 07:02:14.336108 140121889404288 utils.py:201] [2020-05-03 07:02:14] - run000 fold 0 - start training\n"
     ]
    },
    {
     "name": "stdout",
     "output_type": "stream",
     "text": [
      "0:\tlearn: 2.5535108\ttest: 2.5539387\tbest: 2.5539387 (0)\ttotal: 218ms\tremaining: 1.96s\n",
      "9:\tlearn: 1.4443961\ttest: 1.4530093\tbest: 1.4530093 (9)\ttotal: 1.17s\tremaining: 0us\n",
      "\n",
      "bestTest = 1.453009275\n",
      "bestIteration = 9\n",
      "\n"
     ]
    },
    {
     "name": "stderr",
     "output_type": "stream",
     "text": [
      "[2020-05-03 07:02:17] - run000 fold 0 - end training - score 1.4530092748131307\n",
      "I0503 07:02:17.056980 140121889404288 utils.py:201] [2020-05-03 07:02:17] - run000 fold 0 - end training - score 1.4530092748131307\n",
      "[2020-05-03 07:02:17] - run000 fold 1 - start training\n",
      "I0503 07:02:17.110491 140121889404288 utils.py:201] [2020-05-03 07:02:17] - run000 fold 1 - start training\n"
     ]
    },
    {
     "name": "stdout",
     "output_type": "stream",
     "text": [
      "0:\tlearn: 2.5534884\ttest: 2.5537782\tbest: 2.5537782 (0)\ttotal: 133ms\tremaining: 1.2s\n",
      "9:\tlearn: 1.4494623\ttest: 1.4510098\tbest: 1.4510098 (9)\ttotal: 1s\tremaining: 0us\n",
      "\n",
      "bestTest = 1.451009801\n",
      "bestIteration = 9\n",
      "\n"
     ]
    },
    {
     "name": "stderr",
     "output_type": "stream",
     "text": [
      "[2020-05-03 07:02:19] - run000 fold 1 - end training - score 1.4510098009717685\n",
      "I0503 07:02:19.681416 140121889404288 utils.py:201] [2020-05-03 07:02:19] - run000 fold 1 - end training - score 1.4510098009717685\n",
      "[2020-05-03 07:02:19] - run000 fold 2 - start training\n",
      "I0503 07:02:19.721932 140121889404288 utils.py:201] [2020-05-03 07:02:19] - run000 fold 2 - start training\n"
     ]
    },
    {
     "name": "stdout",
     "output_type": "stream",
     "text": [
      "0:\tlearn: 2.5494241\ttest: 2.5484679\tbest: 2.5484679 (0)\ttotal: 114ms\tremaining: 1.02s\n",
      "9:\tlearn: 1.4457205\ttest: 1.4449143\tbest: 1.4449143 (9)\ttotal: 1.05s\tremaining: 0us\n",
      "\n",
      "bestTest = 1.444914318\n",
      "bestIteration = 9\n",
      "\n"
     ]
    },
    {
     "name": "stderr",
     "output_type": "stream",
     "text": [
      "[2020-05-03 07:02:22] - run000 fold 2 - end training - score 1.444914318261839\n",
      "I0503 07:02:22.362383 140121889404288 utils.py:201] [2020-05-03 07:02:22] - run000 fold 2 - end training - score 1.444914318261839\n",
      "[2020-05-03 07:02:22] - run000 fold 3 - start training\n",
      "I0503 07:02:22.403348 140121889404288 utils.py:201] [2020-05-03 07:02:22] - run000 fold 3 - start training\n"
     ]
    },
    {
     "name": "stdout",
     "output_type": "stream",
     "text": [
      "0:\tlearn: 2.5494647\ttest: 2.5500104\tbest: 2.5500104 (0)\ttotal: 151ms\tremaining: 1.36s\n",
      "9:\tlearn: 1.4419489\ttest: 1.4449654\tbest: 1.4449654 (9)\ttotal: 1.13s\tremaining: 0us\n",
      "\n",
      "bestTest = 1.444965419\n",
      "bestIteration = 9\n",
      "\n"
     ]
    },
    {
     "name": "stderr",
     "output_type": "stream",
     "text": [
      "[2020-05-03 07:02:25] - run000 fold 3 - end training - score 1.4449654185053444\n",
      "I0503 07:02:25.130934 140121889404288 utils.py:201] [2020-05-03 07:02:25] - run000 fold 3 - end training - score 1.4449654185053444\n",
      "[2020-05-03 07:02:25] - run000 fold 4 - start training\n",
      "I0503 07:02:25.174975 140121889404288 utils.py:201] [2020-05-03 07:02:25] - run000 fold 4 - start training\n"
     ]
    },
    {
     "name": "stdout",
     "output_type": "stream",
     "text": [
      "0:\tlearn: 2.5533207\ttest: 2.5533201\tbest: 2.5533201 (0)\ttotal: 132ms\tremaining: 1.19s\n",
      "9:\tlearn: 1.4370067\ttest: 1.4251772\tbest: 1.4251772 (9)\ttotal: 1.02s\tremaining: 0us\n",
      "\n",
      "bestTest = 1.425177154\n",
      "bestIteration = 9\n",
      "\n"
     ]
    },
    {
     "name": "stderr",
     "output_type": "stream",
     "text": [
      "[2020-05-03 07:02:27] - run000 fold 4 - end training - score 1.4251771543332836\n",
      "I0503 07:02:27.746085 140121889404288 utils.py:201] [2020-05-03 07:02:27] - run000 fold 4 - end training - score 1.4251771543332836\n",
      "[2020-05-03 07:02:27] - run000 - end training cv - score 1.443852288476176\n",
      "I0503 07:02:27.798837 140121889404288 utils.py:201] [2020-05-03 07:02:27] - run000 - end training cv - score 1.443852288476176\n",
      "[2020-05-03 07:02:28] - run000 - start prediction cv\n",
      "I0503 07:02:28.042888 140121889404288 utils.py:201] [2020-05-03 07:02:28] - run000 - start prediction cv\n",
      "[2020-05-03 07:02:28] - run000 - start prediction fold:0\n",
      "I0503 07:02:28.051448 140121889404288 utils.py:201] [2020-05-03 07:02:28] - run000 - start prediction fold:0\n",
      "[2020-05-03 07:02:28] - run000 - end prediction fold:0\n",
      "I0503 07:02:28.384973 140121889404288 utils.py:201] [2020-05-03 07:02:28] - run000 - end prediction fold:0\n",
      "[2020-05-03 07:02:28] - run000 - start prediction fold:1\n",
      "I0503 07:02:28.396831 140121889404288 utils.py:201] [2020-05-03 07:02:28] - run000 - start prediction fold:1\n",
      "[2020-05-03 07:02:28] - run000 - end prediction fold:1\n",
      "I0503 07:02:28.700504 140121889404288 utils.py:201] [2020-05-03 07:02:28] - run000 - end prediction fold:1\n",
      "[2020-05-03 07:02:28] - run000 - start prediction fold:2\n",
      "I0503 07:02:28.709225 140121889404288 utils.py:201] [2020-05-03 07:02:28] - run000 - start prediction fold:2\n",
      "[2020-05-03 07:02:29] - run000 - end prediction fold:2\n",
      "I0503 07:02:29.022503 140121889404288 utils.py:201] [2020-05-03 07:02:29] - run000 - end prediction fold:2\n",
      "[2020-05-03 07:02:29] - run000 - start prediction fold:3\n",
      "I0503 07:02:29.031010 140121889404288 utils.py:201] [2020-05-03 07:02:29] - run000 - start prediction fold:3\n",
      "[2020-05-03 07:02:29] - run000 - end prediction fold:3\n",
      "I0503 07:02:29.347919 140121889404288 utils.py:201] [2020-05-03 07:02:29] - run000 - end prediction fold:3\n",
      "[2020-05-03 07:02:29] - run000 - start prediction fold:4\n",
      "I0503 07:02:29.358246 140121889404288 utils.py:201] [2020-05-03 07:02:29] - run000 - start prediction fold:4\n",
      "[2020-05-03 07:02:29] - run000 - end prediction fold:4\n",
      "I0503 07:02:29.673690 140121889404288 utils.py:201] [2020-05-03 07:02:29] - run000 - end prediction fold:4\n",
      "[2020-05-03 07:02:29] - run000 - end prediction cv\n",
      "I0503 07:02:29.691614 140121889404288 utils.py:201] [2020-05-03 07:02:29] - run000 - end prediction cv\n"
     ]
    }
   ],
   "source": [
    "runner = Runner(run_configs, cv)\n",
    "runner.run_train_cv()\n",
    "runner.run_predict_cv()"
   ]
  },
  {
   "cell_type": "code",
   "execution_count": null,
   "metadata": {},
   "outputs": [],
   "source": []
  }
 ],
 "metadata": {
  "kernelspec": {
   "display_name": "Python 3",
   "language": "python",
   "name": "python3"
  },
  "language_info": {
   "codemirror_mode": {
    "name": "ipython",
    "version": 3
   },
   "file_extension": ".py",
   "mimetype": "text/x-python",
   "name": "python",
   "nbconvert_exporter": "python",
   "pygments_lexer": "ipython3",
   "version": "3.6.6"
  }
 },
 "nbformat": 4,
 "nbformat_minor": 2
}
