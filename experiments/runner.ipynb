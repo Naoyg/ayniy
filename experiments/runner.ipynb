{
 "cells": [
  {
   "cell_type": "code",
   "execution_count": 1,
   "metadata": {},
   "outputs": [],
   "source": [
    "%load_ext autoreload\n",
    "%autoreload 2"
   ]
  },
  {
   "cell_type": "code",
   "execution_count": 2,
   "metadata": {},
   "outputs": [
    {
     "name": "stderr",
     "output_type": "stream",
     "text": [
      "Using TensorFlow backend.\n"
     ]
    }
   ],
   "source": [
    "import yaml\n",
    "from sklearn.model_selection import StratifiedKFold\n",
    "from ayniy.preprocessing.runner import Tabular\n",
    "from ayniy.model.runner import Runner"
   ]
  },
  {
   "cell_type": "code",
   "execution_count": 3,
   "metadata": {},
   "outputs": [],
   "source": [
    "with open('configs/fe000.yml', 'r+') as f:\n",
    "    fe_configs = yaml.safe_load(f)\n",
    "\n",
    "with open('configs/run000.yml', 'r+') as g:\n",
    "    run_configs = yaml.safe_load(g)\n",
    "\n",
    "cv = StratifiedKFold(n_splits=5, shuffle=True, random_state=7)"
   ]
  },
  {
   "cell_type": "code",
   "execution_count": 4,
   "metadata": {},
   "outputs": [],
   "source": [
    "tabular = Tabular(fe_configs, cv)\n",
    "# tabular.create()"
   ]
  },
  {
   "cell_type": "code",
   "execution_count": 5,
   "metadata": {
    "scrolled": true
   },
   "outputs": [
    {
     "name": "stdout",
     "output_type": "stream",
     "text": [
      "[2020-05-11 18:04:22] - run000 - start training cv\n",
      "[2020-05-11 18:04:22] - run000 fold 0 - start training\n",
      "0:\tlearn: 1.1615168\ttest: 1.1596587\tbest: 1.1596587 (0)\ttotal: 97.6ms\tremaining: 879ms\n",
      "9:\tlearn: 1.0880946\ttest: 1.0873368\tbest: 1.0873368 (9)\ttotal: 503ms\tremaining: 0us\n",
      "\n",
      "bestTest = 1.087336762\n",
      "bestIteration = 9\n",
      "\n",
      "[2020-05-11 18:04:22] - run000 fold 0 - end training - score 1.08733676246612\n",
      "[2020-05-11 18:04:23] - run000 fold 1 - start training\n",
      "0:\tlearn: 1.1611092\ttest: 1.1587757\tbest: 1.1587757 (0)\ttotal: 42.2ms\tremaining: 380ms\n",
      "9:\tlearn: 1.0877137\ttest: 1.0801629\tbest: 1.0801629 (9)\ttotal: 831ms\tremaining: 0us\n",
      "\n",
      "bestTest = 1.08016288\n",
      "bestIteration = 9\n",
      "\n",
      "[2020-05-11 18:04:24] - run000 fold 1 - end training - score 1.0801628804752186\n",
      "[2020-05-11 18:04:24] - run000 fold 2 - start training\n",
      "0:\tlearn: 1.1619715\ttest: 1.1607776\tbest: 1.1607776 (0)\ttotal: 53.3ms\tremaining: 480ms\n",
      "9:\tlearn: 1.0835004\ttest: 1.0765709\tbest: 1.0765709 (9)\ttotal: 565ms\tremaining: 0us\n",
      "\n",
      "bestTest = 1.076570888\n",
      "bestIteration = 9\n",
      "\n",
      "[2020-05-11 18:04:25] - run000 fold 2 - end training - score 1.0765708884807226\n",
      "[2020-05-11 18:04:25] - run000 fold 3 - start training\n",
      "0:\tlearn: 1.1608067\ttest: 1.1632626\tbest: 1.1632626 (0)\ttotal: 44.8ms\tremaining: 403ms\n",
      "9:\tlearn: 1.0801652\ttest: 1.0970661\tbest: 1.0970661 (9)\ttotal: 503ms\tremaining: 0us\n",
      "\n",
      "bestTest = 1.09706608\n",
      "bestIteration = 9\n",
      "\n",
      "[2020-05-11 18:04:26] - run000 fold 3 - end training - score 1.097066080276728\n",
      "[2020-05-11 18:04:26] - run000 fold 4 - start training\n",
      "0:\tlearn: 1.1578847\ttest: 1.1655888\tbest: 1.1655888 (0)\ttotal: 51.6ms\tremaining: 465ms\n",
      "9:\tlearn: 1.0756590\ttest: 1.1163359\tbest: 1.1163359 (9)\ttotal: 406ms\tremaining: 0us\n",
      "\n",
      "bestTest = 1.116335898\n",
      "bestIteration = 9\n",
      "\n",
      "[2020-05-11 18:04:27] - run000 fold 4 - end training - score 1.1163358981170446\n",
      "[2020-05-11 18:04:27] - run000 - end training cv - score 1.0915838798723947\n",
      "[2020-05-11 18:04:27] - run000 - start prediction cv\n",
      "[2020-05-11 18:04:27] - run000 - start prediction fold:0\n",
      "[2020-05-11 18:04:27] - run000 - end prediction fold:0\n",
      "[2020-05-11 18:04:27] - run000 - start prediction fold:1\n",
      "[2020-05-11 18:04:27] - run000 - end prediction fold:1\n",
      "[2020-05-11 18:04:27] - run000 - start prediction fold:2\n",
      "[2020-05-11 18:04:27] - run000 - end prediction fold:2\n",
      "[2020-05-11 18:04:27] - run000 - start prediction fold:3\n",
      "[2020-05-11 18:04:27] - run000 - end prediction fold:3\n",
      "[2020-05-11 18:04:27] - run000 - start prediction fold:4\n",
      "[2020-05-11 18:04:27] - run000 - end prediction fold:4\n",
      "[2020-05-11 18:04:27] - run000 - end prediction cv\n"
     ]
    }
   ],
   "source": [
    "runner = Runner(run_configs, cv)\n",
    "runner.run_train_cv()\n",
    "runner.run_predict_cv()\n",
    "runner.submission()"
   ]
  },
  {
   "cell_type": "code",
   "execution_count": null,
   "metadata": {},
   "outputs": [],
   "source": []
  }
 ],
 "metadata": {
  "kernelspec": {
   "display_name": "Python 3",
   "language": "python",
   "name": "python3"
  },
  "language_info": {
   "codemirror_mode": {
    "name": "ipython",
    "version": 3
   },
   "file_extension": ".py",
   "mimetype": "text/x-python",
   "name": "python",
   "nbconvert_exporter": "python",
   "pygments_lexer": "ipython3",
   "version": "3.7.6"
  }
 },
 "nbformat": 4,
 "nbformat_minor": 4
}
