{
 "cells": [
  {
   "cell_type": "code",
   "execution_count": 1,
   "metadata": {},
   "outputs": [
    {
     "data": {
      "text/html": [
       "<style>.container { width:100% !important; }</style>"
      ],
      "text/plain": [
       "<IPython.core.display.HTML object>"
      ]
     },
     "metadata": {},
     "output_type": "display_data"
    }
   ],
   "source": [
    "from ayniy.utils import init_notebook\n",
    "init_notebook()\n",
    "%load_ext autoreload\n",
    "%autoreload 2"
   ]
  },
  {
   "cell_type": "code",
   "execution_count": 2,
   "metadata": {},
   "outputs": [
    {
     "name": "stderr",
     "output_type": "stream",
     "text": [
      "Using TensorFlow backend.\n",
      "I0502 04:54:48.015882 140130421388672 file_utils.py:41] PyTorch version 1.0.1.post2 available.\n"
     ]
    }
   ],
   "source": [
    "import yaml\n",
    "from sklearn.model_selection import StratifiedKFold\n",
    "from ayniy.preprocessing.runner import Tabular\n",
    "from ayniy.model.runner import Runner"
   ]
  },
  {
   "cell_type": "code",
   "execution_count": 3,
   "metadata": {},
   "outputs": [],
   "source": [
    "f = open('configs/fe000.yml', 'r+')\n",
    "feConfigs = yaml.load(f)\n",
    "g = open('configs/exp000.yml', 'r+')\n",
    "expConfigs = yaml.load(g)\n",
    "\n",
    "cv = StratifiedKFold(n_splits=5, shuffle=True, random_state=7)"
   ]
  },
  {
   "cell_type": "code",
   "execution_count": 4,
   "metadata": {},
   "outputs": [
    {
     "name": "stdout",
     "output_type": "stream",
     "text": [
      "[count_null] done in 0 s\n",
      "[label_encoding] done in 0 s\n",
      "[frequency_encoding] done in 0 s\n",
      "[count_encoding] done in 0 s\n",
      "[count_encoding_interact] done in 2 s\n",
      "[matrix_factorization] done in 9 s\n",
      "[target_encoding] done in 6 s\n",
      "[aggregation] done in 0 s\n",
      "[numeric_interact] done in 0 s\n",
      "[get_tfidf] done in 28 s\n",
      "[get_count] done in 30 s\n",
      "[replace inf] done in 3 s\n",
      "[delete cols] done in 126 s\n",
      "[save] done in 1 s\n"
     ]
    }
   ],
   "source": [
    "tabular = Tabular(feConfigs, cv)\n",
    "tabular.create()\n",
    "X_train, X_test, y_train = tabular.load()"
   ]
  },
  {
   "cell_type": "code",
   "execution_count": 5,
   "metadata": {},
   "outputs": [
    {
     "name": "stderr",
     "output_type": "stream",
     "text": [
      "[2020-05-02 04:58:15] - exp000 - start training cv\n",
      "I0502 04:58:15.971422 140130421388672 utils.py:200] [2020-05-02 04:58:15] - exp000 - start training cv\n",
      "[2020-05-02 04:58:15] - exp000 fold 0 - start training\n",
      "I0502 04:58:15.979437 140130421388672 utils.py:200] [2020-05-02 04:58:15] - exp000 fold 0 - start training\n"
     ]
    },
    {
     "name": "stdout",
     "output_type": "stream",
     "text": [
      "0:\tlearn: 1.7273694\ttest: 1.7290123\tbest: 1.7290123 (0)\ttotal: 307ms\tremaining: 5m 6s\n",
      "Stopped by overfitting detector  (50 iterations wait)\n",
      "\n",
      "bestTest = 1.030777621\n",
      "bestIteration = 33\n",
      "\n",
      "Shrink model to first 34 iterations.\n"
     ]
    },
    {
     "name": "stderr",
     "output_type": "stream",
     "text": [
      "[2020-05-02 04:58:32] - exp000 fold 0 - end training - score 1.0307776206951254\n",
      "I0502 04:58:32.242631 140130421388672 utils.py:200] [2020-05-02 04:58:32] - exp000 fold 0 - end training - score 1.0307776206951254\n",
      "[2020-05-02 04:58:32] - exp000 fold 1 - start training\n",
      "I0502 04:58:32.308883 140130421388672 utils.py:200] [2020-05-02 04:58:32] - exp000 fold 1 - start training\n"
     ]
    },
    {
     "name": "stdout",
     "output_type": "stream",
     "text": [
      "0:\tlearn: 1.7272591\ttest: 1.7279669\tbest: 1.7279669 (0)\ttotal: 303ms\tremaining: 5m 2s\n",
      "Stopped by overfitting detector  (50 iterations wait)\n",
      "\n",
      "bestTest = 1.028787514\n",
      "bestIteration = 31\n",
      "\n",
      "Shrink model to first 32 iterations.\n"
     ]
    },
    {
     "name": "stderr",
     "output_type": "stream",
     "text": [
      "[2020-05-02 04:58:45] - exp000 fold 1 - end training - score 1.0287875138615261\n",
      "I0502 04:58:45.324716 140130421388672 utils.py:200] [2020-05-02 04:58:45] - exp000 fold 1 - end training - score 1.0287875138615261\n",
      "[2020-05-02 04:58:45] - exp000 fold 2 - start training\n",
      "I0502 04:58:45.379503 140130421388672 utils.py:200] [2020-05-02 04:58:45] - exp000 fold 2 - start training\n"
     ]
    },
    {
     "name": "stdout",
     "output_type": "stream",
     "text": [
      "0:\tlearn: 1.7033049\ttest: 1.7011716\tbest: 1.7011716 (0)\ttotal: 175ms\tremaining: 2m 55s\n",
      "100:\tlearn: 0.9422334\ttest: 1.0274948\tbest: 1.0190590 (53)\ttotal: 13.7s\tremaining: 2m 1s\n",
      "Stopped by overfitting detector  (50 iterations wait)\n",
      "\n",
      "bestTest = 1.01905897\n",
      "bestIteration = 53\n",
      "\n",
      "Shrink model to first 54 iterations.\n"
     ]
    },
    {
     "name": "stderr",
     "output_type": "stream",
     "text": [
      "[2020-05-02 04:59:01] - exp000 fold 2 - end training - score 1.0190589698630985\n",
      "I0502 04:59:01.393222 140130421388672 utils.py:200] [2020-05-02 04:59:01] - exp000 fold 2 - end training - score 1.0190589698630985\n",
      "[2020-05-02 04:59:01] - exp000 fold 3 - start training\n",
      "I0502 04:59:01.572391 140130421388672 utils.py:200] [2020-05-02 04:59:01] - exp000 fold 3 - start training\n"
     ]
    },
    {
     "name": "stdout",
     "output_type": "stream",
     "text": [
      "0:\tlearn: 1.7034387\ttest: 1.7075645\tbest: 1.7075645 (0)\ttotal: 162ms\tremaining: 2m 41s\n",
      "100:\tlearn: 0.9267673\ttest: 1.0525646\tbest: 1.0488926 (50)\ttotal: 15.1s\tremaining: 2m 14s\n",
      "Stopped by overfitting detector  (50 iterations wait)\n",
      "\n",
      "bestTest = 1.048892587\n",
      "bestIteration = 50\n",
      "\n",
      "Shrink model to first 51 iterations.\n"
     ]
    },
    {
     "name": "stderr",
     "output_type": "stream",
     "text": [
      "[2020-05-02 04:59:19] - exp000 fold 3 - end training - score 1.0488925874860644\n",
      "I0502 04:59:19.248988 140130421388672 utils.py:200] [2020-05-02 04:59:19] - exp000 fold 3 - end training - score 1.0488925874860644\n",
      "[2020-05-02 04:59:19] - exp000 fold 4 - start training\n",
      "I0502 04:59:19.309368 140130421388672 utils.py:200] [2020-05-02 04:59:19] - exp000 fold 4 - start training\n"
     ]
    },
    {
     "name": "stdout",
     "output_type": "stream",
     "text": [
      "0:\tlearn: 1.7263370\ttest: 1.7273542\tbest: 1.7273542 (0)\ttotal: 222ms\tremaining: 3m 42s\n",
      "Stopped by overfitting detector  (50 iterations wait)\n",
      "\n",
      "bestTest = 1.051979532\n",
      "bestIteration = 47\n",
      "\n",
      "Shrink model to first 48 iterations.\n"
     ]
    },
    {
     "name": "stderr",
     "output_type": "stream",
     "text": [
      "[2020-05-02 04:59:36] - exp000 fold 4 - end training - score 1.0519795324482095\n",
      "I0502 04:59:36.217110 140130421388672 utils.py:200] [2020-05-02 04:59:36] - exp000 fold 4 - end training - score 1.0519795324482095\n",
      "[2020-05-02 04:59:36] - exp000 - end training cv - score 1.0359725696549387\n",
      "I0502 04:59:36.272750 140130421388672 utils.py:200] [2020-05-02 04:59:36] - exp000 - end training cv - score 1.0359725696549387\n",
      "name:exp000\tscore:1.0358992448708046\tscore0:1.0307776206951254\tscore1:1.0287875138615261\tscore2:1.0190589698630985\tscore3:1.0488925874860644\tscore4:1.0519795324482095\n",
      "I0502 04:59:36.288875 140130421388672 utils.py:203] name:exp000\tscore:1.0358992448708046\tscore0:1.0307776206951254\tscore1:1.0287875138615261\tscore2:1.0190589698630985\tscore3:1.0488925874860644\tscore4:1.0519795324482095\n",
      "[2020-05-02 04:59:36] - exp000 - start prediction cv\n",
      "I0502 04:59:36.295250 140130421388672 utils.py:200] [2020-05-02 04:59:36] - exp000 - start prediction cv\n",
      "[2020-05-02 04:59:36] - exp000 - start prediction fold:0\n",
      "I0502 04:59:36.300311 140130421388672 utils.py:200] [2020-05-02 04:59:36] - exp000 - start prediction fold:0\n",
      "[2020-05-02 04:59:36] - exp000 - end prediction fold:0\n",
      "I0502 04:59:36.668313 140130421388672 utils.py:200] [2020-05-02 04:59:36] - exp000 - end prediction fold:0\n",
      "[2020-05-02 04:59:36] - exp000 - start prediction fold:1\n",
      "I0502 04:59:36.672791 140130421388672 utils.py:200] [2020-05-02 04:59:36] - exp000 - start prediction fold:1\n",
      "[2020-05-02 04:59:36] - exp000 - end prediction fold:1\n",
      "I0502 04:59:36.998263 140130421388672 utils.py:200] [2020-05-02 04:59:36] - exp000 - end prediction fold:1\n",
      "[2020-05-02 04:59:37] - exp000 - start prediction fold:2\n",
      "I0502 04:59:37.004479 140130421388672 utils.py:200] [2020-05-02 04:59:37] - exp000 - start prediction fold:2\n",
      "[2020-05-02 04:59:37] - exp000 - end prediction fold:2\n",
      "I0502 04:59:37.323365 140130421388672 utils.py:200] [2020-05-02 04:59:37] - exp000 - end prediction fold:2\n",
      "[2020-05-02 04:59:37] - exp000 - start prediction fold:3\n",
      "I0502 04:59:37.327766 140130421388672 utils.py:200] [2020-05-02 04:59:37] - exp000 - start prediction fold:3\n",
      "[2020-05-02 04:59:37] - exp000 - end prediction fold:3\n",
      "I0502 04:59:37.646594 140130421388672 utils.py:200] [2020-05-02 04:59:37] - exp000 - end prediction fold:3\n",
      "[2020-05-02 04:59:37] - exp000 - start prediction fold:4\n",
      "I0502 04:59:37.653320 140130421388672 utils.py:200] [2020-05-02 04:59:37] - exp000 - start prediction fold:4\n",
      "[2020-05-02 04:59:37] - exp000 - end prediction fold:4\n",
      "I0502 04:59:37.988477 140130421388672 utils.py:200] [2020-05-02 04:59:37] - exp000 - end prediction fold:4\n",
      "[2020-05-02 04:59:38] - exp000 - end prediction cv\n",
      "I0502 04:59:38.004024 140130421388672 utils.py:200] [2020-05-02 04:59:38] - exp000 - end prediction cv\n"
     ]
    }
   ],
   "source": [
    "runner = Runner(expConfigs, cv)\n",
    "runner.run_train_cv()\n",
    "runner.run_predict_cv()\n",
    "runner.submission()"
   ]
  },
  {
   "cell_type": "code",
   "execution_count": null,
   "metadata": {},
   "outputs": [],
   "source": []
  }
 ],
 "metadata": {
  "kernelspec": {
   "display_name": "Python 3",
   "language": "python",
   "name": "python3"
  },
  "language_info": {
   "codemirror_mode": {
    "name": "ipython",
    "version": 3
   },
   "file_extension": ".py",
   "mimetype": "text/x-python",
   "name": "python",
   "nbconvert_exporter": "python",
   "pygments_lexer": "ipython3",
   "version": "3.6.6"
  }
 },
 "nbformat": 4,
 "nbformat_minor": 2
}
