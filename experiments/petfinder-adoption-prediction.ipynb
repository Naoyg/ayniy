{
 "cells": [
  {
   "cell_type": "code",
   "execution_count": 1,
   "metadata": {},
   "outputs": [
    {
     "data": {
      "text/html": [
       "<style>.container { width:100% !important; }</style>"
      ],
      "text/plain": [
       "<IPython.core.display.HTML object>"
      ]
     },
     "metadata": {},
     "output_type": "display_data"
    }
   ],
   "source": [
    "from ayniy.utils import init_notebook\n",
    "init_notebook()\n",
    "%load_ext autoreload\n",
    "%autoreload 2"
   ]
  },
  {
   "cell_type": "code",
   "execution_count": 2,
   "metadata": {},
   "outputs": [
    {
     "name": "stderr",
     "output_type": "stream",
     "text": [
      "Using TensorFlow backend.\n",
      "I0502 14:53:20.015760 140036987377024 file_utils.py:41] PyTorch version 1.0.1.post2 available.\n"
     ]
    }
   ],
   "source": [
    "import yaml\n",
    "from sklearn.model_selection import StratifiedKFold\n",
    "from ayniy.preprocessing.runner import Tabular\n",
    "from ayniy.model.runner import Runner"
   ]
  },
  {
   "cell_type": "code",
   "execution_count": 3,
   "metadata": {},
   "outputs": [],
   "source": [
    "f = open('configs/fe000.yml', 'r+')\n",
    "fe_configs = yaml.load(f)\n",
    "g = open('configs/run000.yml', 'r+')\n",
    "run_configs = yaml.load(g)\n",
    "\n",
    "cv = StratifiedKFold(n_splits=5, shuffle=True, random_state=7)"
   ]
  },
  {
   "cell_type": "code",
   "execution_count": 4,
   "metadata": {},
   "outputs": [],
   "source": [
    "tabular = Tabular(fe_configs, cv)\n",
    "# tabular.create()\n",
    "X_train, X_test, y_train = tabular.load()"
   ]
  },
  {
   "cell_type": "code",
   "execution_count": 5,
   "metadata": {
    "scrolled": true
   },
   "outputs": [
    {
     "name": "stderr",
     "output_type": "stream",
     "text": [
      "[2020-05-02 14:53:21] - run000 - start training cv\n",
      "I0502 14:53:21.822256 140036987377024 utils.py:201] [2020-05-02 14:53:21] - run000 - start training cv\n",
      "[2020-05-02 14:53:21] - run000 fold 0 - start training\n",
      "I0502 14:53:21.828466 140036987377024 utils.py:201] [2020-05-02 14:53:21] - run000 fold 0 - start training\n"
     ]
    },
    {
     "name": "stdout",
     "output_type": "stream",
     "text": [
      "0:\tlearn: 2.5535108\ttest: 2.5539387\tbest: 2.5539387 (0)\ttotal: 243ms\tremaining: 2.19s\n"
     ]
    },
    {
     "name": "stderr",
     "output_type": "stream",
     "text": [
      "[2020-05-02 14:53:24] - run000 fold 0 - end training - score 1.4530092748131307\n"
     ]
    },
    {
     "name": "stdout",
     "output_type": "stream",
     "text": [
      "9:\tlearn: 1.4443961\ttest: 1.4530093\tbest: 1.4530093 (9)\ttotal: 1.46s\tremaining: 0us\n",
      "\n",
      "bestTest = 1.453009275\n",
      "bestIteration = 9\n",
      "\n"
     ]
    },
    {
     "name": "stderr",
     "output_type": "stream",
     "text": [
      "I0502 14:53:24.864103 140036987377024 utils.py:201] [2020-05-02 14:53:24] - run000 fold 0 - end training - score 1.4530092748131307\n",
      "[2020-05-02 14:53:24] - run000 fold 1 - start training\n",
      "I0502 14:53:24.914714 140036987377024 utils.py:201] [2020-05-02 14:53:24] - run000 fold 1 - start training\n"
     ]
    },
    {
     "name": "stdout",
     "output_type": "stream",
     "text": [
      "0:\tlearn: 2.5534884\ttest: 2.5537782\tbest: 2.5537782 (0)\ttotal: 157ms\tremaining: 1.41s\n",
      "9:\tlearn: 1.4494623\ttest: 1.4510098\tbest: 1.4510098 (9)\ttotal: 1.28s\tremaining: 0us\n",
      "\n",
      "bestTest = 1.451009801\n",
      "bestIteration = 9\n",
      "\n"
     ]
    },
    {
     "name": "stderr",
     "output_type": "stream",
     "text": [
      "[2020-05-02 14:53:27] - run000 fold 1 - end training - score 1.4510098009717685\n",
      "I0502 14:53:27.786585 140036987377024 utils.py:201] [2020-05-02 14:53:27] - run000 fold 1 - end training - score 1.4510098009717685\n",
      "[2020-05-02 14:53:27] - run000 fold 2 - start training\n",
      "I0502 14:53:27.845248 140036987377024 utils.py:201] [2020-05-02 14:53:27] - run000 fold 2 - start training\n"
     ]
    },
    {
     "name": "stdout",
     "output_type": "stream",
     "text": [
      "0:\tlearn: 2.5494241\ttest: 2.5484679\tbest: 2.5484679 (0)\ttotal: 152ms\tremaining: 1.37s\n",
      "9:\tlearn: 1.4457205\ttest: 1.4449143\tbest: 1.4449143 (9)\ttotal: 1.47s\tremaining: 0us\n",
      "\n",
      "bestTest = 1.444914318\n",
      "bestIteration = 9\n",
      "\n"
     ]
    },
    {
     "name": "stderr",
     "output_type": "stream",
     "text": [
      "[2020-05-02 14:53:30] - run000 fold 2 - end training - score 1.444914318261839\n",
      "I0502 14:53:30.919630 140036987377024 utils.py:201] [2020-05-02 14:53:30] - run000 fold 2 - end training - score 1.444914318261839\n",
      "[2020-05-02 14:53:30] - run000 fold 3 - start training\n",
      "I0502 14:53:30.965438 140036987377024 utils.py:201] [2020-05-02 14:53:30] - run000 fold 3 - start training\n"
     ]
    },
    {
     "name": "stdout",
     "output_type": "stream",
     "text": [
      "0:\tlearn: 2.5494647\ttest: 2.5500104\tbest: 2.5500104 (0)\ttotal: 147ms\tremaining: 1.32s\n",
      "9:\tlearn: 1.4419489\ttest: 1.4449654\tbest: 1.4449654 (9)\ttotal: 1.2s\tremaining: 0us\n",
      "\n",
      "bestTest = 1.444965419\n",
      "bestIteration = 9\n",
      "\n"
     ]
    },
    {
     "name": "stderr",
     "output_type": "stream",
     "text": [
      "[2020-05-02 14:53:33] - run000 fold 3 - end training - score 1.4449654185053444\n",
      "I0502 14:53:33.851317 140036987377024 utils.py:201] [2020-05-02 14:53:33] - run000 fold 3 - end training - score 1.4449654185053444\n",
      "[2020-05-02 14:53:33] - run000 fold 4 - start training\n",
      "I0502 14:53:33.893937 140036987377024 utils.py:201] [2020-05-02 14:53:33] - run000 fold 4 - start training\n"
     ]
    },
    {
     "name": "stdout",
     "output_type": "stream",
     "text": [
      "0:\tlearn: 2.5533207\ttest: 2.5533201\tbest: 2.5533201 (0)\ttotal: 109ms\tremaining: 982ms\n"
     ]
    },
    {
     "name": "stderr",
     "output_type": "stream",
     "text": [
      "[2020-05-02 14:53:36] - run000 fold 4 - end training - score 1.4251771543332836\n"
     ]
    },
    {
     "name": "stdout",
     "output_type": "stream",
     "text": [
      "9:\tlearn: 1.4370067\ttest: 1.4251772\tbest: 1.4251772 (9)\ttotal: 1.07s\tremaining: 0us\n",
      "\n",
      "bestTest = 1.425177154\n",
      "bestIteration = 9\n",
      "\n"
     ]
    },
    {
     "name": "stderr",
     "output_type": "stream",
     "text": [
      "I0502 14:53:36.538804 140036987377024 utils.py:201] [2020-05-02 14:53:36] - run000 fold 4 - end training - score 1.4251771543332836\n",
      "[2020-05-02 14:53:36] - run000 - end training cv - score 1.443852288476176\n",
      "I0502 14:53:36.583188 140036987377024 utils.py:201] [2020-05-02 14:53:36] - run000 - end training cv - score 1.443852288476176\n",
      "[2020-05-02 14:53:36] - run000 - start prediction cv\n",
      "I0502 14:53:36.833656 140036987377024 utils.py:201] [2020-05-02 14:53:36] - run000 - start prediction cv\n",
      "[2020-05-02 14:53:36] - run000 - start prediction fold:0\n",
      "I0502 14:53:36.840688 140036987377024 utils.py:201] [2020-05-02 14:53:36] - run000 - start prediction fold:0\n",
      "[2020-05-02 14:53:37] - run000 - end prediction fold:0\n",
      "I0502 14:53:37.147615 140036987377024 utils.py:201] [2020-05-02 14:53:37] - run000 - end prediction fold:0\n",
      "[2020-05-02 14:53:37] - run000 - start prediction fold:1\n",
      "I0502 14:53:37.153125 140036987377024 utils.py:201] [2020-05-02 14:53:37] - run000 - start prediction fold:1\n",
      "[2020-05-02 14:53:37] - run000 - end prediction fold:1\n",
      "I0502 14:53:37.440519 140036987377024 utils.py:201] [2020-05-02 14:53:37] - run000 - end prediction fold:1\n",
      "[2020-05-02 14:53:37] - run000 - start prediction fold:2\n",
      "I0502 14:53:37.443605 140036987377024 utils.py:201] [2020-05-02 14:53:37] - run000 - start prediction fold:2\n",
      "[2020-05-02 14:53:37] - run000 - end prediction fold:2\n",
      "I0502 14:53:37.724143 140036987377024 utils.py:201] [2020-05-02 14:53:37] - run000 - end prediction fold:2\n",
      "[2020-05-02 14:53:37] - run000 - start prediction fold:3\n",
      "I0502 14:53:37.728887 140036987377024 utils.py:201] [2020-05-02 14:53:37] - run000 - start prediction fold:3\n",
      "[2020-05-02 14:53:38] - run000 - end prediction fold:3\n",
      "I0502 14:53:38.012092 140036987377024 utils.py:201] [2020-05-02 14:53:38] - run000 - end prediction fold:3\n",
      "[2020-05-02 14:53:38] - run000 - start prediction fold:4\n",
      "I0502 14:53:38.015390 140036987377024 utils.py:201] [2020-05-02 14:53:38] - run000 - start prediction fold:4\n",
      "[2020-05-02 14:53:38] - run000 - end prediction fold:4\n",
      "I0502 14:53:38.301741 140036987377024 utils.py:201] [2020-05-02 14:53:38] - run000 - end prediction fold:4\n",
      "[2020-05-02 14:53:38] - run000 - end prediction cv\n",
      "I0502 14:53:38.313031 140036987377024 utils.py:201] [2020-05-02 14:53:38] - run000 - end prediction cv\n"
     ]
    }
   ],
   "source": [
    "runner = Runner(run_configs, cv)\n",
    "runner.run_train_cv()\n",
    "runner.run_predict_cv()\n",
    "runner.submission()"
   ]
  },
  {
   "cell_type": "code",
   "execution_count": null,
   "metadata": {},
   "outputs": [],
   "source": []
  }
 ],
 "metadata": {
  "kernelspec": {
   "display_name": "Python 3",
   "language": "python",
   "name": "python3"
  },
  "language_info": {
   "codemirror_mode": {
    "name": "ipython",
    "version": 3
   },
   "file_extension": ".py",
   "mimetype": "text/x-python",
   "name": "python",
   "nbconvert_exporter": "python",
   "pygments_lexer": "ipython3",
   "version": "3.6.6"
  }
 },
 "nbformat": 4,
 "nbformat_minor": 2
}
