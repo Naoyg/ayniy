{
 "cells": [
  {
   "cell_type": "code",
   "execution_count": 1,
   "metadata": {},
   "outputs": [
    {
     "data": {
      "text/html": [
       "<style>.container { width:100% !important; }</style>"
      ],
      "text/plain": [
       "<IPython.core.display.HTML object>"
      ]
     },
     "metadata": {},
     "output_type": "display_data"
    }
   ],
   "source": [
    "from ayniy.utils import init_notebook\n",
    "init_notebook()\n",
    "%load_ext autoreload\n",
    "%autoreload 2"
   ]
  },
  {
   "cell_type": "code",
   "execution_count": 2,
   "metadata": {},
   "outputs": [
    {
     "name": "stderr",
     "output_type": "stream",
     "text": [
      "Using TensorFlow backend.\n",
      "I0502 16:35:17.718857 140068655818112 file_utils.py:41] PyTorch version 1.0.1.post2 available.\n"
     ]
    }
   ],
   "source": [
    "import yaml\n",
    "from sklearn.model_selection import StratifiedKFold\n",
    "from ayniy.preprocessing.runner import Tabular\n",
    "from ayniy.model.runner import Runner"
   ]
  },
  {
   "cell_type": "code",
   "execution_count": 4,
   "metadata": {},
   "outputs": [],
   "source": [
    "f = open('configs/fe000.yml', 'r+')\n",
    "fe_configs = yaml.load(f)\n",
    "g = open('configs/run001.yml', 'r+')\n",
    "run_configs = yaml.load(g)\n",
    "\n",
    "cv = StratifiedKFold(n_splits=5, shuffle=True, random_state=7)"
   ]
  },
  {
   "cell_type": "code",
   "execution_count": 5,
   "metadata": {},
   "outputs": [],
   "source": [
    "tabular = Tabular(fe_configs, cv)\n",
    "# tabular.create()\n",
    "X_train, X_test, y_train = tabular.load()"
   ]
  },
  {
   "cell_type": "code",
   "execution_count": 6,
   "metadata": {
    "scrolled": true
   },
   "outputs": [
    {
     "name": "stderr",
     "output_type": "stream",
     "text": [
      "[2020-05-02 16:35:33] - run001 - start training cv\n",
      "I0502 16:35:33.706115 140068655818112 utils.py:201] [2020-05-02 16:35:33] - run001 - start training cv\n",
      "[2020-05-02 16:35:33] - run001 fold 0 - start training\n",
      "I0502 16:35:33.712604 140068655818112 utils.py:201] [2020-05-02 16:35:33] - run001 fold 0 - start training\n"
     ]
    },
    {
     "name": "stdout",
     "output_type": "stream",
     "text": [
      "count    14993.000000\n",
      "mean         1.212935\n",
      "std          0.783287\n",
      "min          0.079274\n",
      "25%          0.478860\n",
      "50%          1.235368\n",
      "75%          2.162893\n",
      "max          2.665238\n",
      "Name: res, dtype: float64\n",
      "2.2\n",
      "(9337, 393)\n"
     ]
    },
    {
     "name": "stderr",
     "output_type": "stream",
     "text": [
      "/opt/conda/lib/python3.6/site-packages/pandas/core/frame.py:3697: SettingWithCopyWarning: \n",
      "A value is trying to be set on a copy of a slice from a DataFrame\n",
      "\n",
      "See the caveats in the documentation: http://pandas.pydata.org/pandas-docs/stable/indexing.html#indexing-view-versus-copy\n",
      "  errors=errors)\n"
     ]
    },
    {
     "name": "stdout",
     "output_type": "stream",
     "text": [
      "0:\tlearn: 2.5534396\ttest: 2.5528480\tbest: 2.5528480 (0)\ttotal: 93.5ms\tremaining: 842ms\n",
      "9:\tlearn: 1.4687427\ttest: 1.4717010\tbest: 1.4717010 (9)\ttotal: 1.46s\tremaining: 0us\n",
      "\n",
      "bestTest = 1.471701006\n",
      "bestIteration = 9\n",
      "\n"
     ]
    },
    {
     "name": "stderr",
     "output_type": "stream",
     "text": [
      "[2020-05-02 16:35:36] - run001 fold 0 - end training - score 1.4717010061718894\n",
      "I0502 16:35:36.798966 140068655818112 utils.py:201] [2020-05-02 16:35:36] - run001 fold 0 - end training - score 1.4717010061718894\n",
      "[2020-05-02 16:35:36] - run001 fold 1 - start training\n",
      "I0502 16:35:36.844141 140068655818112 utils.py:201] [2020-05-02 16:35:36] - run001 fold 1 - start training\n"
     ]
    },
    {
     "name": "stdout",
     "output_type": "stream",
     "text": [
      "count    14993.000000\n",
      "mean         1.212935\n",
      "std          0.783287\n",
      "min          0.079274\n",
      "25%          0.478860\n",
      "50%          1.235368\n",
      "75%          2.162893\n",
      "max          2.665238\n",
      "Name: res, dtype: float64\n",
      "2.2\n",
      "(9382, 393)\n"
     ]
    },
    {
     "name": "stderr",
     "output_type": "stream",
     "text": [
      "/opt/conda/lib/python3.6/site-packages/pandas/core/frame.py:3697: SettingWithCopyWarning: \n",
      "A value is trying to be set on a copy of a slice from a DataFrame\n",
      "\n",
      "See the caveats in the documentation: http://pandas.pydata.org/pandas-docs/stable/indexing.html#indexing-view-versus-copy\n",
      "  errors=errors)\n"
     ]
    },
    {
     "name": "stdout",
     "output_type": "stream",
     "text": [
      "0:\tlearn: 2.5542017\ttest: 2.5534747\tbest: 2.5534747 (0)\ttotal: 189ms\tremaining: 1.7s\n",
      "9:\tlearn: 1.4682947\ttest: 1.4728702\tbest: 1.4728702 (9)\ttotal: 1.19s\tremaining: 0us\n",
      "\n",
      "bestTest = 1.472870243\n",
      "bestIteration = 9\n",
      "\n"
     ]
    },
    {
     "name": "stderr",
     "output_type": "stream",
     "text": [
      "[2020-05-02 16:35:39] - run001 fold 1 - end training - score 1.4728702433627183\n",
      "I0502 16:35:39.664070 140068655818112 utils.py:201] [2020-05-02 16:35:39] - run001 fold 1 - end training - score 1.4728702433627183\n",
      "[2020-05-02 16:35:39] - run001 fold 2 - start training\n",
      "I0502 16:35:39.700549 140068655818112 utils.py:201] [2020-05-02 16:35:39] - run001 fold 2 - start training\n"
     ]
    },
    {
     "name": "stdout",
     "output_type": "stream",
     "text": [
      "count    14993.000000\n",
      "mean         1.212935\n",
      "std          0.783287\n",
      "min          0.079274\n",
      "25%          0.478860\n",
      "50%          1.235368\n",
      "75%          2.162893\n",
      "max          2.665238\n",
      "Name: res, dtype: float64\n",
      "2.2\n",
      "(9324, 393)\n"
     ]
    },
    {
     "name": "stderr",
     "output_type": "stream",
     "text": [
      "/opt/conda/lib/python3.6/site-packages/pandas/core/frame.py:3697: SettingWithCopyWarning: \n",
      "A value is trying to be set on a copy of a slice from a DataFrame\n",
      "\n",
      "See the caveats in the documentation: http://pandas.pydata.org/pandas-docs/stable/indexing.html#indexing-view-versus-copy\n",
      "  errors=errors)\n"
     ]
    },
    {
     "name": "stdout",
     "output_type": "stream",
     "text": [
      "0:\tlearn: 2.5523880\ttest: 2.5530548\tbest: 2.5530548 (0)\ttotal: 111ms\tremaining: 1000ms\n"
     ]
    },
    {
     "name": "stderr",
     "output_type": "stream",
     "text": [
      "[2020-05-02 16:35:42] - run001 fold 2 - end training - score 1.4724405709231112\n",
      "I0502 16:35:42.348366 140068655818112 utils.py:201] [2020-05-02 16:35:42] - run001 fold 2 - end training - score 1.4724405709231112\n"
     ]
    },
    {
     "name": "stdout",
     "output_type": "stream",
     "text": [
      "9:\tlearn: 1.4692765\ttest: 1.4724406\tbest: 1.4724406 (9)\ttotal: 1.14s\tremaining: 0us\n",
      "\n",
      "bestTest = 1.472440571\n",
      "bestIteration = 9\n",
      "\n"
     ]
    },
    {
     "name": "stderr",
     "output_type": "stream",
     "text": [
      "[2020-05-02 16:35:42] - run001 fold 3 - start training\n",
      "I0502 16:35:42.389749 140068655818112 utils.py:201] [2020-05-02 16:35:42] - run001 fold 3 - start training\n"
     ]
    },
    {
     "name": "stdout",
     "output_type": "stream",
     "text": [
      "count    14993.000000\n",
      "mean         1.212935\n",
      "std          0.783287\n",
      "min          0.079274\n",
      "25%          0.478860\n",
      "50%          1.235368\n",
      "75%          2.162893\n",
      "max          2.665238\n",
      "Name: res, dtype: float64\n",
      "2.2\n",
      "(9260, 393)\n"
     ]
    },
    {
     "name": "stderr",
     "output_type": "stream",
     "text": [
      "/opt/conda/lib/python3.6/site-packages/pandas/core/frame.py:3697: SettingWithCopyWarning: \n",
      "A value is trying to be set on a copy of a slice from a DataFrame\n",
      "\n",
      "See the caveats in the documentation: http://pandas.pydata.org/pandas-docs/stable/indexing.html#indexing-view-versus-copy\n",
      "  errors=errors)\n"
     ]
    },
    {
     "name": "stdout",
     "output_type": "stream",
     "text": [
      "0:\tlearn: 2.5539696\ttest: 2.5529628\tbest: 2.5529628 (0)\ttotal: 86.5ms\tremaining: 778ms\n"
     ]
    },
    {
     "name": "stderr",
     "output_type": "stream",
     "text": [
      "[2020-05-02 16:35:45] - run001 fold 3 - end training - score 1.472529138758424\n"
     ]
    },
    {
     "name": "stdout",
     "output_type": "stream",
     "text": [
      "9:\tlearn: 1.4680416\ttest: 1.4725291\tbest: 1.4725291 (9)\ttotal: 1.09s\tremaining: 0us\n",
      "\n",
      "bestTest = 1.472529139\n",
      "bestIteration = 9\n",
      "\n"
     ]
    },
    {
     "name": "stderr",
     "output_type": "stream",
     "text": [
      "I0502 16:35:45.039638 140068655818112 utils.py:201] [2020-05-02 16:35:45] - run001 fold 3 - end training - score 1.472529138758424\n",
      "[2020-05-02 16:35:45] - run001 fold 4 - start training\n",
      "I0502 16:35:45.089121 140068655818112 utils.py:201] [2020-05-02 16:35:45] - run001 fold 4 - start training\n"
     ]
    },
    {
     "name": "stdout",
     "output_type": "stream",
     "text": [
      "count    14993.000000\n",
      "mean         1.212935\n",
      "std          0.783287\n",
      "min          0.079274\n",
      "25%          0.478860\n",
      "50%          1.235368\n",
      "75%          2.162893\n",
      "max          2.665238\n",
      "Name: res, dtype: float64\n",
      "2.2\n",
      "(9225, 393)\n"
     ]
    },
    {
     "name": "stderr",
     "output_type": "stream",
     "text": [
      "/opt/conda/lib/python3.6/site-packages/pandas/core/frame.py:3697: SettingWithCopyWarning: \n",
      "A value is trying to be set on a copy of a slice from a DataFrame\n",
      "\n",
      "See the caveats in the documentation: http://pandas.pydata.org/pandas-docs/stable/indexing.html#indexing-view-versus-copy\n",
      "  errors=errors)\n"
     ]
    },
    {
     "name": "stdout",
     "output_type": "stream",
     "text": [
      "0:\tlearn: 2.5593632\ttest: 2.5534712\tbest: 2.5534712 (0)\ttotal: 131ms\tremaining: 1.17s\n",
      "9:\tlearn: 1.4707938\ttest: 1.4694500\tbest: 1.4694500 (9)\ttotal: 915ms\tremaining: 0us\n",
      "\n",
      "bestTest = 1.469450037\n",
      "bestIteration = 9\n",
      "\n"
     ]
    },
    {
     "name": "stderr",
     "output_type": "stream",
     "text": [
      "[2020-05-02 16:35:47] - run001 fold 4 - end training - score 1.4694500365693275\n",
      "I0502 16:35:47.575444 140068655818112 utils.py:201] [2020-05-02 16:35:47] - run001 fold 4 - end training - score 1.4694500365693275\n",
      "[2020-05-02 16:35:47] - run001 - end training cv - score 1.4717990033394919\n",
      "I0502 16:35:47.627292 140068655818112 utils.py:201] [2020-05-02 16:35:47] - run001 - end training cv - score 1.4717990033394919\n",
      "[2020-05-02 16:35:47] - run001 - start prediction cv\n",
      "I0502 16:35:47.823723 140068655818112 utils.py:201] [2020-05-02 16:35:47] - run001 - start prediction cv\n",
      "[2020-05-02 16:35:47] - run001 - start prediction fold:0\n",
      "I0502 16:35:47.830631 140068655818112 utils.py:201] [2020-05-02 16:35:47] - run001 - start prediction fold:0\n",
      "[2020-05-02 16:35:48] - run001 - end prediction fold:0\n",
      "I0502 16:35:48.221036 140068655818112 utils.py:201] [2020-05-02 16:35:48] - run001 - end prediction fold:0\n",
      "[2020-05-02 16:35:48] - run001 - start prediction fold:1\n",
      "I0502 16:35:48.226564 140068655818112 utils.py:201] [2020-05-02 16:35:48] - run001 - start prediction fold:1\n",
      "[2020-05-02 16:35:48] - run001 - end prediction fold:1\n",
      "I0502 16:35:48.531336 140068655818112 utils.py:201] [2020-05-02 16:35:48] - run001 - end prediction fold:1\n",
      "[2020-05-02 16:35:48] - run001 - start prediction fold:2\n",
      "I0502 16:35:48.537144 140068655818112 utils.py:201] [2020-05-02 16:35:48] - run001 - start prediction fold:2\n",
      "[2020-05-02 16:35:48] - run001 - end prediction fold:2\n",
      "I0502 16:35:48.849177 140068655818112 utils.py:201] [2020-05-02 16:35:48] - run001 - end prediction fold:2\n",
      "[2020-05-02 16:35:48] - run001 - start prediction fold:3\n",
      "I0502 16:35:48.851769 140068655818112 utils.py:201] [2020-05-02 16:35:48] - run001 - start prediction fold:3\n",
      "[2020-05-02 16:35:49] - run001 - end prediction fold:3\n",
      "I0502 16:35:49.193475 140068655818112 utils.py:201] [2020-05-02 16:35:49] - run001 - end prediction fold:3\n",
      "[2020-05-02 16:35:49] - run001 - start prediction fold:4\n",
      "I0502 16:35:49.198429 140068655818112 utils.py:201] [2020-05-02 16:35:49] - run001 - start prediction fold:4\n",
      "[2020-05-02 16:35:49] - run001 - end prediction fold:4\n",
      "I0502 16:35:49.477797 140068655818112 utils.py:201] [2020-05-02 16:35:49] - run001 - end prediction fold:4\n",
      "[2020-05-02 16:35:49] - run001 - end prediction cv\n",
      "I0502 16:35:49.489109 140068655818112 utils.py:201] [2020-05-02 16:35:49] - run001 - end prediction cv\n"
     ]
    }
   ],
   "source": [
    "runner = Runner(run_configs, cv)\n",
    "runner.run_train_cv()\n",
    "runner.run_predict_cv()\n",
    "runner.submission()"
   ]
  },
  {
   "cell_type": "code",
   "execution_count": null,
   "metadata": {},
   "outputs": [],
   "source": []
  }
 ],
 "metadata": {
  "kernelspec": {
   "display_name": "Python 3",
   "language": "python",
   "name": "python3"
  },
  "language_info": {
   "codemirror_mode": {
    "name": "ipython",
    "version": 3
   },
   "file_extension": ".py",
   "mimetype": "text/x-python",
   "name": "python",
   "nbconvert_exporter": "python",
   "pygments_lexer": "ipython3",
   "version": "3.6.6"
  }
 },
 "nbformat": 4,
 "nbformat_minor": 2
}
